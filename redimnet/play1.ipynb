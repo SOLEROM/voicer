{
 "cells": [
  {
   "cell_type": "code",
   "execution_count": null,
   "metadata": {},
   "outputs": [],
   "source": [
    "import torch\n",
    "print(torch.__version__)\n",
    "\n",
    "import torchaudio\n",
    "import torchaudio.transforms as T\n",
    "import torch\n",
    "import torch.nn.functional as F"
   ]
  },
  {
   "cell_type": "markdown",
   "metadata": {},
   "source": [
    "## test files\n",
    " * espeak \"Hello, this is a test.\" -w test00.wav\n",
    " * espeak \"this is the same voice\" -w test01.wav\n",
    "\n",
    " * test2.wav - something random from the internet;"
   ]
  },
  {
   "cell_type": "code",
   "execution_count": null,
   "metadata": {},
   "outputs": [],
   "source": [
    "\n",
    "\n",
    "model_name='M' # ~b3-b4 size\n",
    "train_type='ft_mix'\n",
    "dataset='vb2+vox2+cnc'\n",
    "\n",
    "torch.hub.set_dir('/data/proj/voice/redimnet/models')\n",
    "\n",
    "model = torch.hub.load('IDRnD/ReDimNet', 'ReDimNet', \n",
    "                       model_name=model_name, \n",
    "                       train_type=train_type, \n",
    "                       dataset=dataset)\n",
    "\n",
    "model.eval()"
   ]
  },
  {
   "cell_type": "code",
   "execution_count": null,
   "metadata": {},
   "outputs": [],
   "source": [
    "from torchinfo import summary\n",
    "summary(model, input_size=(1, 32000))"
   ]
  },
  {
   "cell_type": "code",
   "execution_count": null,
   "metadata": {},
   "outputs": [],
   "source": [
    "def extract_speaker_embedding(wav_path, target_sample_rate=16000, target_length=32000):\n",
    "    \"\"\"\n",
    "    Extracts a speaker embedding from a given WAV file using the ReDimNet model.\n",
    "    \n",
    "    Parameters:\n",
    "    - model: The ReDimNet model\n",
    "    - wav_path: Path to the WAV file\n",
    "    - target_sample_rate: Sample rate the model expects (default: 16kHz)\n",
    "    - target_length: Number of samples the model expects (default: 32000 = 2 sec @ 16kHz)\n",
    "    \n",
    "    Returns:\n",
    "    - speaker_embedding: The extracted speaker embedding as a PyTorch tensor\n",
    "    \"\"\"\n",
    "    # Load audio file\n",
    "    waveform, sample_rate = torchaudio.load(wav_path)\n",
    "    \n",
    "    # Convert to mono if needed\n",
    "    if waveform.shape[0] > 1:\n",
    "        waveform = waveform.mean(dim=0, keepdim=True)\n",
    "    \n",
    "    # Resample if needed\n",
    "    if sample_rate != target_sample_rate:\n",
    "        resampler = T.Resample(orig_freq=sample_rate, new_freq=target_sample_rate)\n",
    "        waveform = resampler(waveform)\n",
    "    \n",
    "    # Ensure the waveform has exactly `target_length` samples\n",
    "    if waveform.shape[1] < target_length:\n",
    "        # Pad with zeros if too short\n",
    "        pad_size = target_length - waveform.shape[1]\n",
    "        waveform = F.pad(waveform, (0, pad_size))\n",
    "    else:\n",
    "        # Trim if too long\n",
    "        waveform = waveform[:, :target_length]\n",
    "    \n",
    "    # Ensure correct shape (batch_size, num_samples)\n",
    "    print(f\"waveform Sample Shape: {waveform.shape} ; type : {type(waveform)}\")\n",
    "    \n",
    "    # Extract speaker embedding\n",
    "    with torch.no_grad():\n",
    "        speaker_embedding = model(waveform)\n",
    "        \n",
    "    print(f\"Speaker Embedding Shape: {speaker_embedding.shape} ; type : {type(speaker_embedding)}\")  # Expected: (1, embedding_dim)\n",
    "    \n",
    "    return speaker_embedding\n"
   ]
  },
  {
   "cell_type": "code",
   "execution_count": null,
   "metadata": {},
   "outputs": [],
   "source": [
    "# Compute similarity between two embeddings\n",
    "def cosine_similarity(embedding1, embedding2):\n",
    "    return F.cosine_similarity(embedding1, embedding2).item()\n"
   ]
  },
  {
   "cell_type": "code",
   "execution_count": null,
   "metadata": {},
   "outputs": [],
   "source": [
    "\n",
    "embed1 = extract_speaker_embedding(wav_path='test00.wav')\n",
    "embed2 = extract_speaker_embedding(wav_path='test01.wav')\n",
    "embed3 = extract_speaker_embedding(wav_path='test2.wav')\n",
    "    "
   ]
  },
  {
   "cell_type": "code",
   "execution_count": null,
   "metadata": {},
   "outputs": [],
   "source": [
    "print(f\"Similarity: {cosine_similarity(embed1, embed2)}\")\n",
    "print(f\"Similarity: {cosine_similarity(embed1, embed3)}\")"
   ]
  }
 ],
 "metadata": {
  "kernelspec": {
   "display_name": "Python 3",
   "language": "python",
   "name": "python3"
  },
  "language_info": {
   "codemirror_mode": {
    "name": "ipython",
    "version": 3
   },
   "file_extension": ".py",
   "mimetype": "text/x-python",
   "name": "python",
   "nbconvert_exporter": "python",
   "pygments_lexer": "ipython3",
   "version": "3.10.14"
  }
 },
 "nbformat": 4,
 "nbformat_minor": 2
}
