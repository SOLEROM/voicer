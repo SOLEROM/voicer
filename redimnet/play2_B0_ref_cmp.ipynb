{
 "cells": [
  {
   "cell_type": "markdown",
   "metadata": {},
   "source": [
    "# ReDimNet REf Vs NoMel"
   ]
  },
  {
   "cell_type": "code",
   "execution_count": null,
   "metadata": {},
   "outputs": [],
   "source": [
    "import torch\n",
    "print(torch.__version__)\n",
    "\n",
    "import torchaudio\n",
    "import torchaudio.transforms as T\n",
    "import torch\n",
    "import torch.nn as nn\n",
    "import torch.nn.functional as F\n",
    "\n",
    "import numpy as np\n",
    "import copy"
   ]
  },
  {
   "cell_type": "markdown",
   "metadata": {},
   "source": [
    "# orig Model"
   ]
  },
  {
   "cell_type": "code",
   "execution_count": null,
   "metadata": {},
   "outputs": [],
   "source": [
    "model_name='B0'\n",
    "# train_type='ft_lm'\n",
    "train_type='ptn'\n",
    "dataset='vox2'\n",
    "\n",
    "torch.hub.set_dir('/data/proj/voice/redimnet/models')\n",
    "\n",
    "model = torch.hub.load('IDRnD/ReDimNet', 'ReDimNet', \n",
    "                       model_name=model_name, \n",
    "                       train_type=train_type, \n",
    "                       dataset=dataset)\n",
    "model.eval()"
   ]
  },
  {
   "cell_type": "code",
   "execution_count": null,
   "metadata": {},
   "outputs": [],
   "source": [
    "from torchinfo import summary\n",
    "summary(model, input_size=(1, 32000))"
   ]
  },
  {
   "cell_type": "markdown",
   "metadata": {},
   "source": [
    "## WAVE PRE"
   ]
  },
  {
   "cell_type": "code",
   "execution_count": null,
   "metadata": {},
   "outputs": [],
   "source": [
    "def extract_speaker_embedding(wav_path, target_sample_rate=16000, target_length=32000):\n",
    "    \"\"\"\n",
    "    Extracts a speaker embedding from a given WAV file using the ReDimNet model.\n",
    "    \n",
    "    Parameters:\n",
    "    - model: The ReDimNet model\n",
    "    - wav_path: Path to the WAV file\n",
    "    - target_sample_rate: Sample rate the model expects (default: 16kHz)\n",
    "    - target_length: Number of samples the model expects (default: 32000 = 2 sec @ 16kHz)\n",
    "    \n",
    "    Returns:\n",
    "    - speaker_embedding: The extracted speaker embedding as a PyTorch tensor\n",
    "    \"\"\"\n",
    "    # Load audio file\n",
    "    waveform, sample_rate = torchaudio.load(wav_path)\n",
    "    \n",
    "    # Convert to mono if needed\n",
    "    if waveform.shape[0] > 1:\n",
    "        waveform = waveform.mean(dim=0, keepdim=True)\n",
    "    \n",
    "    # Resample if needed\n",
    "    if sample_rate != target_sample_rate:\n",
    "        resampler = T.Resample(orig_freq=sample_rate, new_freq=target_sample_rate)\n",
    "        waveform = resampler(waveform)\n",
    "    \n",
    "    # Ensure the waveform has exactly `target_length` samples\n",
    "    if waveform.shape[1] < target_length:\n",
    "        # Pad with zeros if too short\n",
    "        pad_size = target_length - waveform.shape[1]\n",
    "        waveform = F.pad(waveform, (0, pad_size))\n",
    "        print(f\"Padding waveform to {target_length} samples.\")\n",
    "    else:\n",
    "        # Trim if too long\n",
    "        waveform = waveform[:, :target_length]\n",
    "        print(f\"Trimming waveform to {target_length} samples.\")\n",
    "    \n",
    "    # Ensure correct shape (batch_size, num_samples)\n",
    "    print(f\"waveform Sample Shape: {waveform.shape} ; type : {type(waveform)}\")\n",
    "    \n",
    "    # Extract speaker embedding\n",
    "    with torch.no_grad():\n",
    "        speaker_embedding = model(waveform)\n",
    "        \n",
    "    print(f\"Speaker Embedding Shape: {speaker_embedding.shape} ; type : {type(speaker_embedding)}\")  # Expected: (1, embedding_dim)\n",
    "    \n",
    "    return speaker_embedding\n"
   ]
  },
  {
   "cell_type": "code",
   "execution_count": null,
   "metadata": {},
   "outputs": [],
   "source": [
    "# Compute similarity between two embeddings\n",
    "def cosine_similarity(embedding1, embedding2):\n",
    "    return F.cosine_similarity(embedding1, embedding2).item()\n"
   ]
  },
  {
   "cell_type": "code",
   "execution_count": null,
   "metadata": {},
   "outputs": [],
   "source": [
    "embed_orig = extract_speaker_embedding(wav_path='test000.wav')\n",
    "\n",
    "\n"
   ]
  },
  {
   "cell_type": "markdown",
   "metadata": {},
   "source": [
    "# NOMEL"
   ]
  },
  {
   "cell_type": "code",
   "execution_count": null,
   "metadata": {},
   "outputs": [],
   "source": [
    "########################################\n",
    "# 2) Define a Model Class without MelBanks\n",
    "########################################\n",
    "import torch\n",
    "import torch.nn as nn\n",
    "\n",
    "class ReDimNetNoMel(nn.Module):\n",
    "    \"\"\"\n",
    "    A wrapper around the original ReDimNetWrap that:\n",
    "      - Excludes the 'spec' (MelBanks) module\n",
    "      - Uses 'backbone', 'pool', 'bn', and 'linear'\n",
    "    We expect a precomputed mel spectrogram as input with shape [B, 1, n_mels, time_frames].\n",
    "    \"\"\"\n",
    "    def __init__(self, original_wrap):\n",
    "        super().__init__()\n",
    "        # Grab references to the submodules we want to keep\n",
    "        self.backbone = original_wrap.backbone\n",
    "        self.pool = original_wrap.pool\n",
    "        self.bn = original_wrap.bn\n",
    "        self.linear = original_wrap.linear\n",
    "\n",
    "    def forward(self, x):\n",
    "        # x: shape [B, 1, n_mels, time_frames]\n",
    "        # (1) Pass through the backbone\n",
    "        x = self.backbone(x)    # shape might become [B, channels, frames] or similar\n",
    "        # (2) Pooling\n",
    "        x = self.pool(x)        # ASTP => shape likely [B, embedding_dim]\n",
    "        # (3) BatchNorm\n",
    "        x = self.bn(x)\n",
    "        # (4) Final linear => 192-dim (if that's your embedding size)\n",
    "        x = self.linear(x)\n",
    "        return x\n",
    "\n",
    "\n",
    "# Create an instance of our new model that skips the MelBanks front-end\n",
    "model_no_mel = ReDimNetNoMel(model)\n",
    "model_no_mel.eval()\n",
    "\n"
   ]
  },
  {
   "cell_type": "code",
   "execution_count": null,
   "metadata": {},
   "outputs": [],
   "source": [
    "??? put here redimnet_logmel code ???"
   ]
  },
  {
   "cell_type": "code",
   "execution_count": null,
   "metadata": {},
   "outputs": [],
   "source": [
    "def example_inference(wav_path: str):\n",
    "    # (a) Load audio\n",
    "    waveform, sample_rate = torchaudio.load(wav_path)  # shape: [channels, time]\n",
    "    # If stereo, select one channel, or average:\n",
    "    if waveform.shape[0] > 1:\n",
    "        waveform = waveform.mean(dim=0, keepdim=True)\n",
    "    \n",
    "    target_sample_rate = 16000  # Force to 16kHz as per model requirements\n",
    "    # Resample if needed\n",
    "    if sample_rate != target_sample_rate:\n",
    "        resampler = T.Resample(orig_freq=sample_rate, new_freq=target_sample_rate)\n",
    "        waveform = resampler(waveform)\n",
    "\n",
    "    # (b) Convert to log-mel\n",
    "    log_mel = redimnet_logmel(waveform)\n",
    "    print('feeding logmel shape:', log_mel.shape)\n",
    "\n",
    "    # (d) Forward pass\n",
    "    with torch.no_grad():\n",
    "        embedding = model_no_mel(log_mel)  # shape typically [1, 192] or so\n",
    "\n",
    "    print(\"Embedding shape:\", embedding.shape)\n",
    "    #print(\"Embedding:\", embedding)\n",
    "    return embedding"
   ]
  },
  {
   "cell_type": "code",
   "execution_count": null,
   "metadata": {},
   "outputs": [],
   "source": [
    "embed_nomel = example_inference(\"test000.wav\")"
   ]
  },
  {
   "cell_type": "markdown",
   "metadata": {},
   "source": [
    "# compare"
   ]
  },
  {
   "cell_type": "code",
   "execution_count": null,
   "metadata": {},
   "outputs": [],
   "source": [
    "print(f\"Similarity (robot to robot): {cosine_similarity(embed_nomel, embed_orig)}\")"
   ]
  },
  {
   "cell_type": "code",
   "execution_count": null,
   "metadata": {},
   "outputs": [],
   "source": [
    "with torch.no_grad():\n",
    "    # ➊ let the original model compute its own f-bank\n",
    "    wav, _ = torchaudio.load(\"test000.wav\")\n",
    "    mel_ref = model.spec.torchfbank(wav)          # -> [B, 60, 134]\n",
    "\n",
    "    # ➋ pass *exactly the same tensor* to the wrapper\n",
    "    emb_from_nomel = model_no_mel(mel_ref.unsqueeze(1))   # add channel dim\n",
    "\n",
    "    # ➌ compare\n",
    "    emb_from_orig  = model(wav)\n",
    "    print(F.cosine_similarity(emb_from_nomel, emb_from_orig))"
   ]
  }
 ],
 "metadata": {
  "kernelspec": {
   "display_name": "Python 3",
   "language": "python",
   "name": "python3"
  },
  "language_info": {
   "codemirror_mode": {
    "name": "ipython",
    "version": 3
   },
   "file_extension": ".py",
   "mimetype": "text/x-python",
   "name": "python",
   "nbconvert_exporter": "python",
   "pygments_lexer": "ipython3",
   "version": "3.10.14"
  }
 },
 "nbformat": 4,
 "nbformat_minor": 2
}
