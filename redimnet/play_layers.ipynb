{
 "cells": [
  {
   "cell_type": "markdown",
   "metadata": {},
   "source": []
  },
  {
   "cell_type": "code",
   "execution_count": 1,
   "metadata": {},
   "outputs": [
    {
     "name": "stdout",
     "output_type": "stream",
     "text": [
      "2.6.0+cu124\n"
     ]
    }
   ],
   "source": [
    "import torch\n",
    "print(torch.__version__)\n",
    "\n",
    "import torchaudio\n",
    "import torchaudio.transforms as T\n",
    "\n",
    "import torch.nn as nn\n",
    "import torch.nn.functional as F\n",
    "\n",
    "import numpy as np\n",
    "\n",
    "import onnx\n",
    "import onnxruntime as ort\n",
    "\n"
   ]
  },
  {
   "cell_type": "code",
   "execution_count": 2,
   "metadata": {},
   "outputs": [],
   "source": [
    "onnx_path = \"ReDimNet_no_mel.onnx\"\n",
    "test_wave_file = \"test00.wav\""
   ]
  },
  {
   "cell_type": "markdown",
   "metadata": {},
   "source": [
    "## help functions"
   ]
  },
  {
   "cell_type": "code",
   "execution_count": 3,
   "metadata": {},
   "outputs": [],
   "source": [
    "def waveform_to_logmel(\n",
    "    waveform: torch.Tensor,\n",
    "    sample_rate=16000,\n",
    "    n_fft=512,\n",
    "    hop_length=160,\n",
    "    n_mels=60,         # match whatever your model expects\n",
    "    f_min=20.0,\n",
    "    f_max=8000.0,\n",
    "    preemphasis_alpha=0.97\n",
    "):\n",
    "    # 1) Normalize\n",
    "    waveform = waveform / (waveform.abs().max() + 1e-8)\n",
    "    # 2) PreEmphasis\n",
    "    shifted = torch.roll(waveform, shifts=1, dims=1)\n",
    "    waveform_preemph = waveform - preemphasis_alpha * shifted\n",
    "    waveform_preemph[:, 0] = waveform[:, 0]\n",
    "    # 3) MelSpectrogram\n",
    "    mel_transform = torchaudio.transforms.MelSpectrogram(\n",
    "        sample_rate=sample_rate,\n",
    "        n_fft=n_fft,\n",
    "        hop_length=hop_length,\n",
    "        n_mels=n_mels,\n",
    "        f_min=f_min,\n",
    "        f_max=f_max,\n",
    "        power=2.0,\n",
    "        center=False\n",
    "    )\n",
    "    mel_spec = mel_transform(waveform_preemph)\n",
    "    # 4) Log scale\n",
    "    log_mel = torch.log(mel_spec + 1e-6)\n",
    "    return log_mel  # shape: [1, n_mels, frames]"
   ]
  },
  {
   "cell_type": "markdown",
   "metadata": {},
   "source": [
    "## load model"
   ]
  },
  {
   "cell_type": "code",
   "execution_count": 4,
   "metadata": {},
   "outputs": [
    {
     "name": "stdout",
     "output_type": "stream",
     "text": [
      "Loaded and checked ONNX model from: ReDimNet_no_mel.onnx\n"
     ]
    }
   ],
   "source": [
    "onnx_model = onnx.load(onnx_path)\n",
    "onnx.checker.check_model(onnx_model)\n",
    "print(f\"Loaded and checked ONNX model from: {onnx_path}\")"
   ]
  },
  {
   "cell_type": "markdown",
   "metadata": {},
   "source": [
    "## Inference Test"
   ]
  },
  {
   "cell_type": "code",
   "execution_count": 5,
   "metadata": {},
   "outputs": [],
   "source": [
    "\n",
    "# Create an inference session\n",
    "session = ort.InferenceSession(onnx_path)\n",
    "\n",
    "# Usually we retrieve the first input & output name\n",
    "input_name = session.get_inputs()[0].name\n",
    "output_name = session.get_outputs()[0].name\n",
    "\n",
    "#######################################\n",
    "# 2) Load audio, get log-mel\n",
    "#######################################\n",
    "waveform, sr = torchaudio.load(test_wave_file)\n",
    "# If multi-channel, downmix:\n",
    "if waveform.shape[0] > 1:\n",
    "    waveform = waveform.mean(dim=0, keepdim=True)\n",
    "\n",
    "log_mel = waveform_to_logmel(waveform, sample_rate=sr)\n",
    "# Insert a batch dimension => shape [B, 1, n_mels, frames]\n",
    "log_mel = log_mel.unsqueeze(0)  # => [1, 1, n_mels, time_frames]\n",
    "\n",
    "#######################################\n",
    "# 3) ONNX Inference\n",
    "#######################################\n",
    "# Convert to NumPy for ONNX runtime\n",
    "log_mel_np = log_mel.cpu().numpy()\n",
    "# Run inference\n",
    "outputs = session.run([output_name], {input_name: log_mel_np})\n",
    "# outputs is a list; typically we want the first item\n",
    "embedding = outputs[0]  # shape is [1, embedding_dim]"
   ]
  },
  {
   "cell_type": "code",
   "execution_count": 7,
   "metadata": {},
   "outputs": [
    {
     "name": "stdout",
     "output_type": "stream",
     "text": [
      "(1, 192)\n"
     ]
    }
   ],
   "source": [
    "print(embedding.shape)"
   ]
  }
 ],
 "metadata": {
  "kernelspec": {
   "display_name": "pyvoice_venv",
   "language": "python",
   "name": "python3"
  },
  "language_info": {
   "codemirror_mode": {
    "name": "ipython",
    "version": 3
   },
   "file_extension": ".py",
   "mimetype": "text/x-python",
   "name": "python",
   "nbconvert_exporter": "python",
   "pygments_lexer": "ipython3",
   "version": "3.10.14"
  }
 },
 "nbformat": 4,
 "nbformat_minor": 2
}
