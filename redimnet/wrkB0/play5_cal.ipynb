{
 "cells": [
  {
   "cell_type": "markdown",
   "metadata": {},
   "source": [
    "# RKNN call\n",
    "\n",
    "\n",
    "===============================================================\n",
    "\n",
    "* \n",
    "\n",
    "==============================================================="
   ]
  },
  {
   "cell_type": "code",
   "execution_count": 1,
   "metadata": {},
   "outputs": [
    {
     "name": "stdout",
     "output_type": "stream",
     "text": [
      "2.6.0+cu124\n"
     ]
    }
   ],
   "source": [
    "%load_ext autoreload\n",
    "%autoreload 2\n",
    "## our utils\n",
    "from utils.common_import import *"
   ]
  },
  {
   "cell_type": "code",
   "execution_count": 2,
   "metadata": {},
   "outputs": [],
   "source": [
    "%%capture --no-display\n",
    "import my_utils as myUtils"
   ]
  },
  {
   "cell_type": "markdown",
   "metadata": {},
   "source": [
    "## param"
   ]
  },
  {
   "cell_type": "code",
   "execution_count": 3,
   "metadata": {},
   "outputs": [],
   "source": [
    "CHUNK_SECS = 2\n",
    "TARGET_SR = 16000\n",
    "\n",
    "INPUT_DIR = Path(\"../3588/cal/inputs\")\n",
    "OUTPUT_DIR = Path(\"../3588/cal/logmels\")\n",
    "DATASET_TXT = Path(\"../3588/cal/dataset.txt\")\n",
    "\n"
   ]
  },
  {
   "cell_type": "code",
   "execution_count": 4,
   "metadata": {},
   "outputs": [],
   "source": [
    "OUTPUT_DIR.mkdir(parents=True, exist_ok=True)\n",
    "with open(DATASET_TXT, \"w\") as f:\n",
    "    pass  # clear it"
   ]
  },
  {
   "cell_type": "markdown",
   "metadata": {},
   "source": [
    "## run on all WAVs"
   ]
  },
  {
   "cell_type": "code",
   "execution_count": 5,
   "metadata": {},
   "outputs": [
    {
     "name": "stdout",
     "output_type": "stream",
     "text": [
      "[INFO] test_human1_2.wav: 3 chunks of 2s\n",
      "Input waveform shape: torch.Size([1, 32000])\n",
      "  ✔ Chunk 0: test_human1_2_chunk00.npy\n",
      "Input waveform shape: torch.Size([1, 32000])\n",
      "  ✔ Chunk 1: test_human1_2_chunk01.npy\n",
      "Input waveform shape: torch.Size([1, 32000])\n",
      "  ✔ Chunk 2: test_human1_2_chunk02.npy\n",
      "[INFO] test_human2_2.wav: 1 chunks of 2s\n",
      "Input waveform shape: torch.Size([1, 32000])\n",
      "  ✔ Chunk 0: test_human2_2_chunk00.npy\n",
      "\n",
      "✔ All done – Total chunks processed: 4\n"
     ]
    }
   ],
   "source": [
    "total_chunks = 0\n",
    "for wav_path in sorted(INPUT_DIR.glob(\"*.wav\")):\n",
    "    try:\n",
    "        waveform, sr = torchaudio.load(wav_path)\n",
    "\n",
    "        # mono\n",
    "        if waveform.shape[0] > 1:\n",
    "            waveform = waveform.mean(dim=0, keepdim=True)\n",
    "\n",
    "        # resample\n",
    "        if sr != TARGET_SR:\n",
    "            resampler = T.Resample(orig_freq=sr, new_freq=TARGET_SR)\n",
    "            waveform = resampler(waveform)\n",
    "\n",
    "        wave = waveform.squeeze(0).numpy()  # to shape [samples]\n",
    "        chunk_len = int(CHUNK_SECS * TARGET_SR)\n",
    "        n_chunks = len(wave) // chunk_len\n",
    "\n",
    "        if n_chunks == 0:\n",
    "            print(f\"⚠ Skipping {wav_path.name}: shorter than one chunk\")\n",
    "            continue\n",
    "\n",
    "        print(f\"[INFO] {wav_path.name}: {n_chunks} chunks of {CHUNK_SECS}s\")\n",
    "\n",
    "        for i in range(n_chunks):\n",
    "            chunk = wave[i * chunk_len : (i + 1) * chunk_len]\n",
    "            chunk_tensor = torch.tensor(chunk, dtype=torch.float32).unsqueeze(0)  # [1, N]\n",
    "            logmel_fp16 = myUtils.waveform_to_logmel(chunk_tensor).cpu().numpy().astype(np.float16)\n",
    "\n",
    "            out_name = f\"{wav_path.stem}_chunk{i:02d}.npy\"\n",
    "            out_path = OUTPUT_DIR / out_name\n",
    "            np.save(out_path, logmel_fp16)\n",
    "\n",
    "            relative_path = out_path.relative_to(DATASET_TXT.parent)\n",
    "            with open(DATASET_TXT, \"a\") as ds:\n",
    "                ds.write(str(relative_path) + \"\\n\")\n",
    "\n",
    "            print(f\"  ✔ Chunk {i}: {out_name}\")\n",
    "            total_chunks += 1\n",
    "\n",
    "    except Exception as e:\n",
    "        print(f\"✖ Error in {wav_path.name}: {e}\")\n",
    "\n",
    "print(f\"\\n✔ All done – Total chunks processed: {total_chunks}\")"
   ]
  }
 ],
 "metadata": {
  "kernelspec": {
   "display_name": "pyvoice_venv",
   "language": "python",
   "name": "python3"
  },
  "language_info": {
   "codemirror_mode": {
    "name": "ipython",
    "version": 3
   },
   "file_extension": ".py",
   "mimetype": "text/x-python",
   "name": "python",
   "nbconvert_exporter": "python",
   "pygments_lexer": "ipython3",
   "version": "3.10.14"
  }
 },
 "nbformat": 4,
 "nbformat_minor": 2
}
